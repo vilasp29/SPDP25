{
  "nbformat": 4,
  "nbformat_minor": 0,
  "metadata": {
    "colab": {
      "provenance": [],
      "gpuType": "T4",
      "authorship_tag": "ABX9TyNLI+n4fr8sSE2qaK7rOIMI",
      "include_colab_link": true
    },
    "kernelspec": {
      "name": "python3",
      "display_name": "Python 3"
    },
    "language_info": {
      "name": "python"
    },
    "accelerator": "GPU"
  },
  "cells": [
    {
      "cell_type": "markdown",
      "metadata": {
        "id": "view-in-github",
        "colab_type": "text"
      },
      "source": [
        "<a href=\"https://colab.research.google.com/github/vilasp29/SPDP25/blob/main/Untitled0.ipynb\" target=\"_parent\"><img src=\"https://colab.research.google.com/assets/colab-badge.svg\" alt=\"Open In Colab\"/></a>"
      ]
    },
    {
      "cell_type": "code",
      "execution_count": 1,
      "metadata": {
        "colab": {
          "base_uri": "https://localhost:8080/"
        },
        "id": "xZoz-vvBVLjO",
        "outputId": "b82285ce-5a4b-4f59-da62-9c7ca9f70a22"
      },
      "outputs": [
        {
          "output_type": "stream",
          "name": "stdout",
          "text": [
            "Master node IP address: 172.28.0.12\n",
            "Free port found: 33857\n",
            "Using device: cuda\n"
          ]
        }
      ],
      "source": [
        "import os\n",
        "import socket\n",
        "import portpicker\n",
        "import torch\n",
        "import torch.nn as nn\n",
        "import torch.distributed as dist\n",
        "\n",
        "# Define a simple model\n",
        "class LinearRegression(nn.Module):\n",
        "  def __init__(self, input_size, output_size):\n",
        "    super(LinearRegression, self).__init__()\n",
        "    self.linear = nn.Linear(input_size, output_size)\n",
        "\n",
        "  def forward(self, x):\n",
        "    return self.linear(x)\n",
        "\n",
        "# Initialize the model\n",
        "model = LinearRegression(2, 5)\n",
        "\n",
        "# Get the output of the ifconfig command\n",
        "ifconfig_output = !ifconfig\n",
        "\n",
        "# Get the hostname of the current machine\n",
        "hostname = socket.gethostname()\n",
        "\n",
        "# Get the IP address associated with the hostname\n",
        "ip_address = socket.gethostbyname(hostname)\n",
        "\n",
        "# Set the MASTER_ADDR environment variable\n",
        "os.environ['MASTER_ADDR'] = ip_address\n",
        "print(f\"Master node IP address: {ip_address}\")\n",
        "\n",
        "# Pick a free port\n",
        "free_port = portpicker.pick_unused_port()\n",
        "\n",
        "# Set the MASTER_PORT environment variable\n",
        "os.environ['MASTER_PORT'] = str(free_port)\n",
        "print(f\"Free port found: {free_port}\")\n",
        "\n",
        "# Manually set environment variables for distributed training\n",
        "\n",
        "#os.environ['MASTER_ADDR'] = 'localhost'  # Replace with your master node's IP\n",
        "#os.environ['MASTER_PORT'] = '12345'  # Choose an available port\n",
        "os.environ['RANK'] = '0'  # Rank of this process\n",
        "os.environ['WORLD_SIZE'] = '1'  # Total number of processes\n",
        "\n",
        "# Get the device (GPU if available, otherwise CPU)\n",
        "device = torch.device(\"cuda\" if torch.cuda.is_available() else \"cpu\")\n",
        "print(f\"Using device: {device}\")\n",
        "\n",
        "# Move model to the device *before* initializing DDP\n",
        "model = model.to(device)\n",
        "\n",
        "# Initialize the distributed environment\n",
        "if not torch.distributed.is_initialized():  # Check if already initialized0\n",
        "  if torch.cuda.is_available():\n",
        "    torch.distributed.init_process_group(backend='nccl')\n",
        "  else:\n",
        "    torch.distributed.init_process_group(backend='gloo')\n",
        "# Wrap the model with DDP\n",
        "model = nn.parallel.DistributedDataParallel(model)"
      ]
    }
  ]
}